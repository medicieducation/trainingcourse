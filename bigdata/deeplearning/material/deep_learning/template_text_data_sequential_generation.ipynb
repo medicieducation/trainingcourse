{
  "nbformat": 4,
  "nbformat_minor": 0,
  "metadata": {
    "colab": {
      "name": "template_text_data_sequential_generation.ipynb",
      "provenance": [],
      "collapsed_sections": []
    },
    "kernelspec": {
      "display_name": "Python 3",
      "language": "python",
      "name": "python3"
    },
    "language_info": {
      "codemirror_mode": {
        "name": "ipython",
        "version": 3
      },
      "file_extension": ".py",
      "mimetype": "text/x-python",
      "name": "python",
      "nbconvert_exporter": "python",
      "pygments_lexer": "ipython3",
      "version": "3.7.0"
    },
    "accelerator": "GPU"
  },
  "cells": [
    {
      "cell_type": "markdown",
      "metadata": {
        "id": "ou-ygxNfo-Ec"
      },
      "source": [
        "## 셋업\n"
      ]
    },
    {
      "cell_type": "code",
      "metadata": {
        "id": "XKxToZdMYeEv"
      },
      "source": [
        "import numpy as np\n",
        "import matplotlib.pyplot as plt"
      ],
      "execution_count": 1,
      "outputs": []
    },
    {
      "cell_type": "code",
      "metadata": {
        "id": "M5OvBIiWo-Ec"
      },
      "source": [
        "TRAINING_SIZE = 5000   # 데이터의 갯수\n",
        "DIGITS = 2              # 덧셈에 사용될 숫자 자리수\n",
        "REVERSE = False          # 입력 문자열의 역순 여부. \n",
        "\n",
        "# 입력 문자열의 최대 길이.\n",
        "#      = 숫자길이 '+'   숫자길이\n",
        "MAXLEN = DIGITS +  1  + DIGITS\n"
      ],
      "execution_count": 2,
      "outputs": []
    },
    {
      "cell_type": "markdown",
      "metadata": {
        "id": "bYKxRgPOJHFo"
      },
      "source": [
        "# 데이터"
      ]
    },
    {
      "cell_type": "markdown",
      "metadata": {
        "id": "DWfm3GkaX5yH"
      },
      "source": [
        "## 입력 문제와 정답여부 생성\n"
      ]
    },
    {
      "cell_type": "code",
      "metadata": {
        "id": "COsdmY5vo-Eg",
        "colab": {
          "base_uri": "https://localhost:8080/"
        },
        "outputId": "d01cd0e7-0310-4b6d-e6bc-302642343701"
      },
      "source": [
        "chars = \"0123456789+ \"\n",
        "\n",
        "questions = []\n",
        "expecteds = []\n",
        "\n",
        "while len(questions) < TRAINING_SIZE:\n",
        "\n",
        "    a = np.random.randint(10**DIGITS)\n",
        "    b = np.random.randint(10**DIGITS)\n",
        "    # a = 12\n",
        "    # b = 34\n",
        "\n",
        "    q = \"{}+{}\".format(a, b)\n",
        "    # q = '12+34'\n",
        "    ans = str(a+b)\n",
        "    # ans = '46' = 123+45\n",
        "\n",
        "\n",
        "    query = q.ljust(MAXLEN, ' ')\n",
        "    # query = '12+34 '\n",
        "    ans = ans.ljust(DIGITS+1, ' ')\n",
        "\n",
        "    if REVERSE:\n",
        "        query = query[::-1]\n",
        "        # query = ' 43+21'\n",
        "\n",
        "    questions.append(query)\n",
        "    expecteds.append(ans)\n",
        "\n",
        "print(\"Total questions:\", len(questions))\n"
      ],
      "execution_count": 3,
      "outputs": [
        {
          "output_type": "stream",
          "name": "stdout",
          "text": [
            "Total questions: 5000\n"
          ]
        }
      ]
    },
    {
      "cell_type": "code",
      "metadata": {
        "colab": {
          "base_uri": "https://localhost:8080/"
        },
        "id": "t0CxfZv3YsRG",
        "outputId": "4bb1ca9d-1072-4db1-da06-6581e4034b19"
      },
      "source": [
        "for i in range(10):\n",
        "  print(\"'\"+questions[i]+\"' ---> '\"+expecteds[i]+\"'\")"
      ],
      "execution_count": 4,
      "outputs": [
        {
          "output_type": "stream",
          "name": "stdout",
          "text": [
            "'98+85' ---> '183'\n",
            "'49+33' ---> '82 '\n",
            "'83+58' ---> '141'\n",
            "'72+89' ---> '161'\n",
            "'45+78' ---> '123'\n",
            "'28+81' ---> '109'\n",
            "'68+44' ---> '112'\n",
            "'39+33' ---> '72 '\n",
            "'14+93' ---> '107'\n",
            "'47+49' ---> '96 '\n"
          ]
        }
      ]
    },
    {
      "cell_type": "code",
      "source": [
        "'78+69     183'"
      ],
      "metadata": {
        "id": "kFLrCVx3DMRo",
        "outputId": "da88f306-64c7-462e-82f4-1c7240d04d4b",
        "colab": {
          "base_uri": "https://localhost:8080/",
          "height": 36
        }
      },
      "execution_count": 5,
      "outputs": [
        {
          "output_type": "execute_result",
          "data": {
            "text/plain": [
              "'78+69     183'"
            ],
            "application/vnd.google.colaboratory.intrinsic+json": {
              "type": "string"
            }
          },
          "metadata": {},
          "execution_count": 5
        }
      ]
    },
    {
      "cell_type": "markdown",
      "metadata": {
        "id": "S7eFX6jIyrnx"
      },
      "source": [
        "## 데이터를 벡터화 하기"
      ]
    },
    {
      "cell_type": "markdown",
      "metadata": {
        "id": "4jO8skDb7p3f"
      },
      "source": [
        "인코딩 디코딩을 위한 유틸 클래스 CharacterTable"
      ]
    },
    {
      "cell_type": "code",
      "metadata": {
        "id": "Sqn4LUtHyi46"
      },
      "source": [
        "class CharacterTable:\n",
        "    def __init__(self, chars):\n",
        "        self.chars = sorted(set(chars))\n",
        "        self.char_indices = dict((c, i) for i, c in enumerate(self.chars))\n",
        "        self.indices_char = dict((i, c) for i, c in enumerate(self.chars))\n",
        "\n",
        "    def encode(self, C, num_rows):\n",
        "        x = np.zeros((num_rows, len(self.chars)))\n",
        "        for i, c in enumerate(C): # 각 자리 문자마다\n",
        "            x[i, self.char_indices[c]] = 1 # 각 줄의 index만 1로 만든다. one-hot encoding한다.\n",
        "        return x\n",
        "\n",
        "    def decode(self, x):\n",
        "        x = x.argmax(axis=-1)\n",
        "        return \"\".join(self.indices_char[x] for x in x)\n"
      ],
      "execution_count": 6,
      "outputs": []
    },
    {
      "cell_type": "code",
      "metadata": {
        "id": "kVYzei1I7XZb"
      },
      "source": [
        "ctable = CharacterTable(chars)"
      ],
      "execution_count": 7,
      "outputs": []
    },
    {
      "cell_type": "markdown",
      "metadata": {
        "id": "I_fJZA7b7Y-e"
      },
      "source": [
        "다음은 인코딩, 디코딩 예이다."
      ]
    },
    {
      "cell_type": "code",
      "metadata": {
        "id": "vwm40AA-r4tt",
        "colab": {
          "base_uri": "https://localhost:8080/"
        },
        "outputId": "b6c7768e-76b7-4b20-e75d-1e5b4fe3424f"
      },
      "source": [
        "# 원 문자열\n",
        "org_str = ' 12+5'\n",
        "print(f\"org_str='{org_str}'\")\n",
        "\n",
        "# 인코딩된 값\n",
        "encoded = ctable.encode(org_str, MAXLEN)\n",
        "# [[1. 0. 0. 0. 0. 0. 0. 0. 0. 0. 0. 0.]      <--- ' '\n",
        "#  [0. 0. 0. 1. 0. 0. 0. 0. 0. 0. 0. 0.]      <--- '1'\n",
        "#  [0. 0. 0. 0. 1. 0. 0. 0. 0. 0. 0. 0.]      <--- '2'\n",
        "#  [0. 1. 0. 0. 0. 0. 0. 0. 0. 0. 0. 0.]      <--- '+'\n",
        "#  [0. 0. 0. 0. 0. 0. 0. 1. 0. 0. 0. 0.]]     <--- '5'\n",
        "print(f\"encoded=\\n{encoded}\")\n",
        "print(f\"encoded.shape={encoded.shape}\")\n",
        "\n",
        "# 다시 디코딩해서 원복한 값\n",
        "decoded = ctable.decode(encoded)\n",
        "print(f\"decoded='{decoded}'\")"
      ],
      "execution_count": 8,
      "outputs": [
        {
          "output_type": "stream",
          "name": "stdout",
          "text": [
            "org_str=' 12+5'\n",
            "encoded=\n",
            "[[1. 0. 0. 0. 0. 0. 0. 0. 0. 0. 0. 0.]\n",
            " [0. 0. 0. 1. 0. 0. 0. 0. 0. 0. 0. 0.]\n",
            " [0. 0. 0. 0. 1. 0. 0. 0. 0. 0. 0. 0.]\n",
            " [0. 1. 0. 0. 0. 0. 0. 0. 0. 0. 0. 0.]\n",
            " [0. 0. 0. 0. 0. 0. 0. 1. 0. 0. 0. 0.]]\n",
            "encoded.shape=(5, 12)\n",
            "decoded=' 12+5'\n"
          ]
        }
      ]
    },
    {
      "cell_type": "code",
      "metadata": {
        "id": "d1QHj3MDo-Ej",
        "colab": {
          "base_uri": "https://localhost:8080/"
        },
        "outputId": "ece46b3b-4b88-4bfa-a63e-b1cdb4f43739"
      },
      "source": [
        "print(\"Vectorization...\")\n",
        "\n",
        "x = np.zeros((len(questions), MAXLEN, len(chars)))\n",
        "y = np.zeros((len(questions), DIGITS + 1, len(chars)))\n",
        "for i, sentence in enumerate(questions):\n",
        "    x[i] = ctable.encode(sentence, MAXLEN)\n",
        "for i, sentence in enumerate(expecteds):\n",
        "    y[i] = ctable.encode(sentence, DIGITS + 1)\n",
        "\n",
        "split_at = int(len(x)*0.9)\n",
        "(train_x, test_x) = x[:split_at], x[split_at:]\n",
        "(train_y, test_y) = y[:split_at], y[split_at:]\n",
        "\n",
        "print(\"Training Data:\")\n",
        "print(train_x.shape)\n",
        "print(train_y.shape)\n",
        "\n",
        "print(\"Test Data:\")\n",
        "print(test_x.shape)\n",
        "print(test_y.shape)\n"
      ],
      "execution_count": 9,
      "outputs": [
        {
          "output_type": "stream",
          "name": "stdout",
          "text": [
            "Vectorization...\n",
            "Training Data:\n",
            "(4500, 5, 12)\n",
            "(4500, 3, 12)\n",
            "Test Data:\n",
            "(500, 5, 12)\n",
            "(500, 3, 12)\n"
          ]
        }
      ]
    },
    {
      "cell_type": "code",
      "metadata": {
        "id": "41UcKyn-q5Ez",
        "colab": {
          "base_uri": "https://localhost:8080/"
        },
        "outputId": "1a375812-7508-4bbf-ebbe-9a602f9286cb"
      },
      "source": [
        "print(\"train_x[0]\\n\", train_x[0].astype(np.int8))\n",
        "print()\n",
        "print(\"train_y[0]\\n\", train_y[0].astype(np.int8))"
      ],
      "execution_count": 10,
      "outputs": [
        {
          "output_type": "stream",
          "name": "stdout",
          "text": [
            "train_x[0]\n",
            " [[0 0 0 0 0 0 0 0 0 0 0 1]\n",
            " [0 0 0 0 0 0 0 0 0 0 1 0]\n",
            " [0 1 0 0 0 0 0 0 0 0 0 0]\n",
            " [0 0 0 0 0 0 0 0 0 0 1 0]\n",
            " [0 0 0 0 0 0 0 1 0 0 0 0]]\n",
            "\n",
            "train_y[0]\n",
            " [[0 0 0 1 0 0 0 0 0 0 0 0]\n",
            " [0 0 0 0 0 0 0 0 0 0 1 0]\n",
            " [0 0 0 0 0 1 0 0 0 0 0 0]]\n"
          ]
        }
      ]
    },
    {
      "cell_type": "code",
      "metadata": {
        "id": "zw_RFfJvrGFM",
        "colab": {
          "base_uri": "https://localhost:8080/"
        },
        "outputId": "a6d51c59-7d6a-4ecd-f01c-3fb6454ff4f3"
      },
      "source": [
        "for i in range(10):\n",
        "  print(\"'\"+ctable.decode(train_x[i])+\"' -> '\"+ctable.decode(train_y[i])+\"'\")"
      ],
      "execution_count": 11,
      "outputs": [
        {
          "output_type": "stream",
          "name": "stdout",
          "text": [
            "'98+85' -> '183'\n",
            "'49+33' -> '82 '\n",
            "'83+58' -> '141'\n",
            "'72+89' -> '161'\n",
            "'45+78' -> '123'\n",
            "'28+81' -> '109'\n",
            "'68+44' -> '112'\n",
            "'39+33' -> '72 '\n",
            "'14+93' -> '107'\n",
            "'47+49' -> '96 '\n"
          ]
        }
      ]
    },
    {
      "cell_type": "markdown",
      "metadata": {
        "id": "i2liXf2Yo-En"
      },
      "source": [
        "# Template\n"
      ]
    },
    {
      "cell_type": "markdown",
      "metadata": {
        "id": "yP4uppTDaJdU"
      },
      "source": [
        "## LSTM"
      ]
    },
    {
      "cell_type": "code",
      "metadata": {
        "id": "GUr-sqkoo-En",
        "colab": {
          "base_uri": "https://localhost:8080/",
          "height": 819
        },
        "outputId": "6d02e79e-24a8-40b6-c594-8e78666579ca"
      },
      "source": [
        "from tensorflow import keras\n",
        "from tensorflow.keras.layers import Dense, RepeatVector, Flatten\n",
        "from tensorflow.keras.layers import Bidirectional, LSTM, GRU, Input\n",
        "\n",
        "input_shape = train_x.shape[1:]\n",
        "\n",
        "model = keras.Sequential()\n",
        "model.add(Input(input_shape))\n",
        "model.add(LSTM(128))\n",
        "model.add(RepeatVector(DIGITS + 1))\n",
        "model.add(LSTM(128, return_sequences=True))\n",
        "model.add(Dense(len(chars), activation=\"softmax\"))\n",
        "model.compile(loss=\"categorical_crossentropy\", optimizer=\"adam\", metrics=[\"accuracy\"])\n",
        "model.summary()\n",
        "\n",
        "history = model.fit(train_x, train_y, epochs=100, verbose=0, validation_split=0.1, batch_size=128)\n",
        "\n",
        "\n",
        "plt.plot(history.history['loss'])\n",
        "plt.plot(history.history['val_loss'])\n",
        "plt.show()\n",
        "\n",
        "\n",
        "loss, acc = model.evaluate(test_x, test_y)\n",
        "print(\"loss=\", loss)\n",
        "print(\"acc=\", acc)\n",
        "\n",
        "\n",
        "y_ = model.predict(test_x)\n",
        "\n",
        "for i in range(10):\n",
        "  print(\"q: {}, a: {}, predicted: {}\".format( \n",
        "      ctable.decode(test_x[i]), \n",
        "      ctable.decode(test_y[i]),\n",
        "      ctable.decode(y_[i])\n",
        "      ))"
      ],
      "execution_count": 12,
      "outputs": [
        {
          "output_type": "stream",
          "name": "stdout",
          "text": [
            "Model: \"sequential\"\n",
            "_________________________________________________________________\n",
            " Layer (type)                Output Shape              Param #   \n",
            "=================================================================\n",
            " lstm (LSTM)                 (None, 128)               72192     \n",
            "                                                                 \n",
            " repeat_vector (RepeatVector  (None, 3, 128)           0         \n",
            " )                                                               \n",
            "                                                                 \n",
            " lstm_1 (LSTM)               (None, 3, 128)            131584    \n",
            "                                                                 \n",
            " dense (Dense)               (None, 3, 12)             1548      \n",
            "                                                                 \n",
            "=================================================================\n",
            "Total params: 205,324\n",
            "Trainable params: 205,324\n",
            "Non-trainable params: 0\n",
            "_________________________________________________________________\n"
          ]
        },
        {
          "output_type": "display_data",
          "data": {
            "text/plain": [
              "<Figure size 432x288 with 1 Axes>"
            ],
            "image/png": "[encoded data removed]"
          },
          "metadata": {
            "needs_background": "light"
          }
        },
        {
          "output_type": "stream",
          "name": "stdout",
          "text": [
            "16/16 [==============================] - 0s 4ms/step - loss: 0.3102 - accuracy: 0.9147\n",
            "loss= 0.3102341294288635\n",
            "acc= 0.9146666526794434\n",
            "q: 1+21 , a: 22 , predicted: 14 \n",
            "q: 47+15, a: 62 , predicted: 62 \n",
            "q: 73+25, a: 98 , predicted: 97 \n",
            "q: 83+34, a: 117, predicted: 117\n",
            "q: 92+94, a: 186, predicted: 186\n",
            "q: 11+50, a: 61 , predicted: 61 \n",
            "q: 47+99, a: 146, predicted: 146\n",
            "q: 78+11, a: 89 , predicted: 89 \n",
            "q: 61+52, a: 113, predicted: 113\n",
            "q: 32+86, a: 118, predicted: 118\n"
          ]
        }
      ]
    },
    {
      "cell_type": "markdown",
      "metadata": {
        "id": "M1sV7tBtAWEz"
      },
      "source": [
        "## GRU"
      ]
    },
    {
      "cell_type": "code",
      "metadata": {
        "colab": {
          "base_uri": "https://localhost:8080/",
          "height": 819
        },
        "id": "Y3EEqdA7m4h3",
        "outputId": "d5041670-34f9-400a-ff91-156d9827edab"
      },
      "source": [
        "from tensorflow import keras\n",
        "from tensorflow.keras.layers import Dense, RepeatVector, Flatten\n",
        "from tensorflow.keras.layers import Bidirectional, LSTM, GRU, Input\n",
        "\n",
        "input_shape = train_x.shape[1:]\n",
        "\n",
        "model = keras.Sequential()\n",
        "model.add(Input(input_shape))\n",
        "model.add(GRU(128))\n",
        "model.add(RepeatVector(DIGITS + 1))\n",
        "model.add(GRU(128, return_sequences=True))\n",
        "model.add(Dense(len(chars), activation=\"softmax\"))\n",
        "model.compile(loss=\"categorical_crossentropy\", optimizer=\"adam\", metrics=[\"accuracy\"])\n",
        "model.summary()\n",
        "\n",
        "history = model.fit(train_x, train_y, epochs=100, verbose=0, validation_split=0.1, batch_size=128)\n",
        "\n",
        "\n",
        "plt.plot(history.history['loss'])\n",
        "plt.plot(history.history['val_loss'])\n",
        "plt.show()\n",
        "\n",
        "\n",
        "loss, acc = model.evaluate(test_x, test_y)\n",
        "print(\"loss=\", loss)\n",
        "print(\"acc=\", acc)\n",
        "\n",
        "\n",
        "y_ = model.predict(test_x)\n",
        "\n",
        "for i in range(10):\n",
        "  print(\"q: {}, a: {}, predicted: {}\".format( \n",
        "      ctable.decode(test_x[i]), \n",
        "      ctable.decode(test_y[i]),\n",
        "      ctable.decode(y_[i])\n",
        "      ))"
      ],
      "execution_count": 13,
      "outputs": [
        {
          "output_type": "stream",
          "name": "stdout",
          "text": [
            "Model: \"sequential_1\"\n",
            "_________________________________________________________________\n",
            " Layer (type)                Output Shape              Param #   \n",
            "=================================================================\n",
            " gru (GRU)                   (None, 128)               54528     \n",
            "                                                                 \n",
            " repeat_vector_1 (RepeatVect  (None, 3, 128)           0         \n",
            " or)                                                             \n",
            "                                                                 \n",
            " gru_1 (GRU)                 (None, 3, 128)            99072     \n",
            "                                                                 \n",
            " dense_1 (Dense)             (None, 3, 12)             1548      \n",
            "                                                                 \n",
            "=================================================================\n",
            "Total params: 155,148\n",
            "Trainable params: 155,148\n",
            "Non-trainable params: 0\n",
            "_________________________________________________________________\n"
          ]
        },
        {
          "output_type": "display_data",
          "data": {
            "text/plain": [
              "<Figure size 432x288 with 1 Axes>"
            ],
            "image/png": "[encoded data removed]"
          },
          "metadata": {
            "needs_background": "light"
          }
        },
        {
          "output_type": "stream",
          "name": "stdout",
          "text": [
            "16/16 [==============================] - 0s 4ms/step - loss: 0.1152 - accuracy: 0.9693\n",
            "loss= 0.11516711115837097\n",
            "acc= 0.9693333506584167\n",
            "q: 1+21 , a: 22 , predicted: 24 \n",
            "q: 47+15, a: 62 , predicted: 62 \n",
            "q: 73+25, a: 98 , predicted: 98 \n",
            "q: 83+34, a: 117, predicted: 117\n",
            "q: 92+94, a: 186, predicted: 186\n",
            "q: 11+50, a: 61 , predicted: 61 \n",
            "q: 47+99, a: 146, predicted: 146\n",
            "q: 78+11, a: 89 , predicted: 89 \n",
            "q: 61+52, a: 113, predicted: 113\n",
            "q: 32+86, a: 118, predicted: 118\n"
          ]
        }
      ]
    },
    {
      "cell_type": "markdown",
      "metadata": {
        "id": "jCBiKCg9AeHT"
      },
      "source": [
        "## Bidirectional + LSTM"
      ]
    },
    {
      "cell_type": "code",
      "metadata": {
        "colab": {
          "base_uri": "https://localhost:8080/",
          "height": 854
        },
        "id": "ER0YZAxnm6o4",
        "outputId": "a36cf109-aed0-4fce-bcc8-df2821274bb7"
      },
      "source": [
        "from tensorflow import keras\n",
        "from tensorflow.keras.layers import Dense, RepeatVector, Flatten\n",
        "from tensorflow.keras.layers import Bidirectional, LSTM, GRU, Input\n",
        "\n",
        "input_shape = train_x.shape[1:]\n",
        "\n",
        "model = keras.Sequential()\n",
        "model.add(Input(input_shape))\n",
        "model.add(Bidirectional(LSTM(128)))\n",
        "model.add(RepeatVector(DIGITS + 1))\n",
        "model.add(Bidirectional(LSTM(128, return_sequences=True)))\n",
        "model.add(Dense(len(chars), activation=\"softmax\"))\n",
        "model.compile(loss=\"categorical_crossentropy\", optimizer=\"adam\", metrics=[\"accuracy\"])\n",
        "model.summary()\n",
        "\n",
        "history = model.fit(train_x, train_y, epochs=100, verbose=0, validation_split=0.1, batch_size=128)\n",
        "\n",
        "\n",
        "plt.plot(history.history['loss'])\n",
        "plt.plot(history.history['val_loss'])\n",
        "plt.show()\n",
        "\n",
        "\n",
        "loss, acc = model.evaluate(test_x, test_y)\n",
        "print(\"loss=\", loss)\n",
        "print(\"acc=\", acc)\n",
        "\n",
        "\n",
        "y_ = model.predict(test_x)\n",
        "\n",
        "for i in range(10):\n",
        "  print(\"q: {}, a: {}, predicted: {}\".format( \n",
        "      ctable.decode(test_x[i]), \n",
        "      ctable.decode(test_y[i]),\n",
        "      ctable.decode(y_[i])\n",
        "      ))"
      ],
      "execution_count": 14,
      "outputs": [
        {
          "output_type": "stream",
          "name": "stdout",
          "text": [
            "Model: \"sequential_2\"\n",
            "_________________________________________________________________\n",
            " Layer (type)                Output Shape              Param #   \n",
            "=================================================================\n",
            " bidirectional (Bidirectiona  (None, 256)              144384    \n",
            " l)                                                              \n",
            "                                                                 \n",
            " repeat_vector_2 (RepeatVect  (None, 3, 256)           0         \n",
            " or)                                                             \n",
            "                                                                 \n",
            " bidirectional_1 (Bidirectio  (None, 3, 256)           394240    \n",
            " nal)                                                            \n",
            "                                                                 \n",
            " dense_2 (Dense)             (None, 3, 12)             3084      \n",
            "                                                                 \n",
            "=================================================================\n",
            "Total params: 541,708\n",
            "Trainable params: 541,708\n",
            "Non-trainable params: 0\n",
            "_________________________________________________________________\n"
          ]
        },
        {
          "output_type": "display_data",
          "data": {
            "text/plain": [
              "<Figure size 432x288 with 1 Axes>"
            ],
            "image/png": "[encoded data removed]"
          },
          "metadata": {
            "needs_background": "light"
          }
        },
        {
          "output_type": "stream",
          "name": "stdout",
          "text": [
            "16/16 [==============================] - 0s 5ms/step - loss: 0.0461 - accuracy: 0.9893\n",
            "loss= 0.046135902404785156\n",
            "acc= 0.9893333315849304\n",
            "q: 1+21 , a: 22 , predicted: 13 \n",
            "q: 47+15, a: 62 , predicted: 62 \n",
            "q: 73+25, a: 98 , predicted: 98 \n",
            "q: 83+34, a: 117, predicted: 117\n",
            "q: 92+94, a: 186, predicted: 186\n",
            "q: 11+50, a: 61 , predicted: 61 \n",
            "q: 47+99, a: 146, predicted: 146\n",
            "q: 78+11, a: 89 , predicted: 89 \n",
            "q: 61+52, a: 113, predicted: 113\n",
            "q: 32+86, a: 118, predicted: 118\n"
          ]
        }
      ]
    },
    {
      "cell_type": "markdown",
      "metadata": {
        "id": "TfY_p_SJA5Rf"
      },
      "source": [
        "## Bidirectional + GRU"
      ]
    },
    {
      "cell_type": "code",
      "metadata": {
        "id": "azGH_FDbwqHT",
        "colab": {
          "base_uri": "https://localhost:8080/",
          "height": 854
        },
        "outputId": "3a309525-8593-4517-bdd2-1f7106ba776b"
      },
      "source": [
        "from tensorflow import keras\n",
        "from tensorflow.keras.layers import Dense, RepeatVector, Flatten\n",
        "from tensorflow.keras.layers import Bidirectional, LSTM, GRU, Input\n",
        "\n",
        "input_shape = train_x.shape[1:]\n",
        "\n",
        "model = keras.Sequential()\n",
        "model.add(Input(input_shape))\n",
        "model.add(Bidirectional(GRU(128)))\n",
        "model.add(RepeatVector(DIGITS + 1))\n",
        "model.add(Bidirectional(GRU(128, return_sequences=True)))\n",
        "model.add(Dense(len(chars), activation=\"softmax\"))\n",
        "model.compile(loss=\"categorical_crossentropy\", optimizer=\"adam\", metrics=[\"accuracy\"])\n",
        "model.summary()\n",
        "\n",
        "history = model.fit(train_x, train_y, epochs=100, verbose=0, validation_split=0.1, batch_size=128)\n",
        "\n",
        "\n",
        "plt.plot(history.history['loss'])\n",
        "plt.plot(history.history['val_loss'])\n",
        "plt.show()\n",
        "\n",
        "\n",
        "loss, acc = model.evaluate(test_x, test_y)\n",
        "print(\"loss=\", loss)\n",
        "print(\"acc=\", acc)\n",
        "\n",
        "\n",
        "y_ = model.predict(test_x)\n",
        "\n",
        "for i in range(10):\n",
        "  print(\"q: {}, a: {}, predicted: {}\".format( \n",
        "      ctable.decode(test_x[i]), \n",
        "      ctable.decode(test_y[i]),\n",
        "      ctable.decode(y_[i])\n",
        "      ))"
      ],
      "execution_count": 15,
      "outputs": [
        {
          "output_type": "stream",
          "name": "stdout",
          "text": [
            "Model: \"sequential_3\"\n",
            "_________________________________________________________________\n",
            " Layer (type)                Output Shape              Param #   \n",
            "=================================================================\n",
            " bidirectional_2 (Bidirectio  (None, 256)              109056    \n",
            " nal)                                                            \n",
            "                                                                 \n",
            " repeat_vector_3 (RepeatVect  (None, 3, 256)           0         \n",
            " or)                                                             \n",
            "                                                                 \n",
            " bidirectional_3 (Bidirectio  (None, 3, 256)           296448    \n",
            " nal)                                                            \n",
            "                                                                 \n",
            " dense_3 (Dense)             (None, 3, 12)             3084      \n",
            "                                                                 \n",
            "=================================================================\n",
            "Total params: 408,588\n",
            "Trainable params: 408,588\n",
            "Non-trainable params: 0\n",
            "_________________________________________________________________\n"
          ]
        },
        {
          "output_type": "display_data",
          "data": {
            "text/plain": [
              "<Figure size 432x288 with 1 Axes>"
            ],
            "image/png": "[encoded data removed]"
          },
          "metadata": {
            "needs_background": "light"
          }
        },
        {
          "output_type": "stream",
          "name": "stdout",
          "text": [
            "16/16 [==============================] - 0s 5ms/step - loss: 0.0467 - accuracy: 0.9873\n",
            "loss= 0.046720489859580994\n",
            "acc= 0.987333357334137\n",
            "q: 1+21 , a: 22 , predicted: 12 \n",
            "q: 47+15, a: 62 , predicted: 62 \n",
            "q: 73+25, a: 98 , predicted: 98 \n",
            "q: 83+34, a: 117, predicted: 117\n",
            "q: 92+94, a: 186, predicted: 186\n",
            "q: 11+50, a: 61 , predicted: 61 \n",
            "q: 47+99, a: 146, predicted: 146\n",
            "q: 78+11, a: 89 , predicted: 89 \n",
            "q: 61+52, a: 113, predicted: 113\n",
            "q: 32+86, a: 118, predicted: 118\n"
          ]
        }
      ]
    },
    {
      "cell_type": "markdown",
      "metadata": {
        "id": "P3aO3WEwA-lR"
      },
      "source": [
        "## stacked"
      ]
    },
    {
      "cell_type": "code",
      "metadata": {
        "colab": {
          "base_uri": "https://localhost:8080/",
          "height": 890
        },
        "id": "kjlbPMfTm750",
        "outputId": "55e81c9f-cae9-4a68-e52f-7a057eb44996"
      },
      "source": [
        "from tensorflow import keras\n",
        "from tensorflow.keras.layers import Dense, RepeatVector, Flatten\n",
        "from tensorflow.keras.layers import Bidirectional, LSTM, GRU, Input\n",
        "\n",
        "input_shape = train_x.shape[1:]\n",
        "\n",
        "model = keras.Sequential()\n",
        "model.add(Input(input_shape))\n",
        "model.add(LSTM(128, return_sequences=True))\n",
        "model.add(LSTM(128))\n",
        "model.add(RepeatVector(DIGITS + 1))\n",
        "model.add(LSTM(128, return_sequences=True))\n",
        "model.add(LSTM(128, return_sequences=True))\n",
        "model.add(Dense(len(chars), activation=\"softmax\"))\n",
        "model.compile(loss=\"categorical_crossentropy\", optimizer=\"adam\", metrics=[\"accuracy\"])\n",
        "model.summary()\n",
        "\n",
        "history = model.fit(train_x, train_y, epochs=100, verbose=0, validation_split=0.1, batch_size=128)\n",
        "\n",
        "\n",
        "plt.plot(history.history['loss'])\n",
        "plt.plot(history.history['val_loss'])\n",
        "plt.show()\n",
        "\n",
        "\n",
        "loss, acc = model.evaluate(test_x, test_y)\n",
        "print(\"loss=\", loss)\n",
        "print(\"acc=\", acc)\n",
        "\n",
        "\n",
        "y_ = model.predict(test_x)\n",
        "\n",
        "for i in range(10):\n",
        "  print(\"q: {}, a: {}, predicted: {}\".format( \n",
        "      ctable.decode(test_x[i]), \n",
        "      ctable.decode(test_y[i]),\n",
        "      ctable.decode(y_[i])\n",
        "      ))"
      ],
      "execution_count": 16,
      "outputs": [
        {
          "output_type": "stream",
          "name": "stdout",
          "text": [
            "Model: \"sequential_4\"\n",
            "_________________________________________________________________\n",
            " Layer (type)                Output Shape              Param #   \n",
            "=================================================================\n",
            " lstm_4 (LSTM)               (None, 5, 128)            72192     \n",
            "                                                                 \n",
            " lstm_5 (LSTM)               (None, 128)               131584    \n",
            "                                                                 \n",
            " repeat_vector_4 (RepeatVect  (None, 3, 128)           0         \n",
            " or)                                                             \n",
            "                                                                 \n",
            " lstm_6 (LSTM)               (None, 3, 128)            131584    \n",
            "                                                                 \n",
            " lstm_7 (LSTM)               (None, 3, 128)            131584    \n",
            "                                                                 \n",
            " dense_4 (Dense)             (None, 3, 12)             1548      \n",
            "                                                                 \n",
            "=================================================================\n",
            "Total params: 468,492\n",
            "Trainable params: 468,492\n",
            "Non-trainable params: 0\n",
            "_________________________________________________________________\n"
          ]
        },
        {
          "output_type": "display_data",
          "data": {
            "text/plain": [
              "<Figure size 432x288 with 1 Axes>"
            ],
            "image/png": "[encoded data removed]"
          },
          "metadata": {
            "needs_background": "light"
          }
        },
        {
          "output_type": "stream",
          "name": "stdout",
          "text": [
            "16/16 [==============================] - 0s 5ms/step - loss: 0.3059 - accuracy: 0.9173\n",
            "loss= 0.3058969974517822\n",
            "acc= 0.9173333048820496\n",
            "q: 1+21 , a: 22 , predicted: 22 \n",
            "q: 47+15, a: 62 , predicted: 62 \n",
            "q: 73+25, a: 98 , predicted: 98 \n",
            "q: 83+34, a: 117, predicted: 117\n",
            "q: 92+94, a: 186, predicted: 186\n",
            "q: 11+50, a: 61 , predicted: 62 \n",
            "q: 47+99, a: 146, predicted: 146\n",
            "q: 78+11, a: 89 , predicted: 89 \n",
            "q: 61+52, a: 113, predicted: 113\n",
            "q: 32+86, a: 118, predicted: 118\n"
          ]
        }
      ]
    },
    {
      "cell_type": "code",
      "metadata": {
        "id": "emE8KhR9BF-Z"
      },
      "source": [
        ""
      ],
      "execution_count": 16,
      "outputs": []
    }
  ]
}